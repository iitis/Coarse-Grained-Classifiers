{
 "cells": [
  {
   "cell_type": "markdown",
   "metadata": {},
   "source": [
    "# Extracting coarse-grained classifiers from large CNN models.\n",
    "\n",
    "The following example shows how to obtain corarse-grained classes with original models trained on ImageNet. This serves as a baseline in our experiment. In this case, we do not extract new models, but use solely the original models, and then map the prediction based on the WrodNet hierarchy (After making a prediction)."
   ]
  },
  {
   "cell_type": "markdown",
   "metadata": {},
   "source": [
    "Import of all the necessary libraries:"
   ]
  },
  {
   "cell_type": "code",
   "execution_count": 1,
   "metadata": {},
   "outputs": [],
   "source": [
    "import tensorflow as tf\n",
    "from tensorflow.keras.applications import MobileNetV2\n",
    "from tensorflow.keras.applications.mobilenet_v2 import preprocess_input\n",
    "import numpy as np\n",
    "\n",
    "from nltk.corpus import wordnet as wn\n",
    "import nltk\n",
    "from tensorflow.keras.applications.imagenet_utils import decode_predictions\n",
    "from keras.utils import to_categorical"
   ]
  },
  {
   "cell_type": "markdown",
   "metadata": {},
   "source": [
    "Below, we include the implementation of the function that allows to find all the hyponyms (sub-classes) of a given WordNet node. We use the nltk WordNet implementation."
   ]
  },
  {
   "cell_type": "code",
   "execution_count": 2,
   "metadata": {},
   "outputs": [],
   "source": [
    "def find_hyponyms(hypernym_name):\n",
    "    \"\"\"\n",
    "    Function can be used to find all the hyponyms of a given WordNet node, \n",
    "    which is a hypernym of some classes.\n",
    "    Parameters\n",
    "    ----------\n",
    "    hypernym_name - name of a WordNet node for which we aim to find all available \n",
    "    hyponyms in ImageNet\n",
    "    \n",
    "    Returns\n",
    "    -------\n",
    "    ids_array - a NumPy array with ImageNet ids of desired fine-grained classes (hyponyms)\n",
    "    \"\"\"\n",
    "    hyponyms = wn.synsets(hypernym_name)[0]\n",
    "    hyponyms = set([i for i in hyponyms.closure(lambda s:s.hyponyms())])\n",
    "    offsets = []\n",
    "    imagenet_classes = decode_predictions(to_categorical(np.expand_dims(np.array(range(1000)), axis=-1), num_classes=1000), top=1)\n",
    "\n",
    "    for c in imagenet_classes:\n",
    "        offsets.append(int(c[0][0].split('n')[1]))\n",
    "    \n",
    "    ids = []\n",
    "    for idx, o in enumerate(offsets):\n",
    "        isadoggo = wn.synset_from_pos_and_offset('n', int(o))\n",
    "        if isadoggo in hyponyms:\n",
    "            ids.append(idx)\n",
    "    ids_array = np.array(ids)\n",
    "    return ids_array"
   ]
  },
  {
   "cell_type": "markdown",
   "metadata": {},
   "source": [
    "Read an example model from Keras (MobileNetV2)"
   ]
  },
  {
   "cell_type": "code",
   "execution_count": 3,
   "metadata": {},
   "outputs": [],
   "source": [
    "model = MobileNetV2(\n",
    "    include_top=True,\n",
    "    weights=\"imagenet\",\n",
    "    input_tensor=None,\n",
    "    input_shape=None,\n",
    "    pooling='avg',\n",
    "    classes=1000,\n",
    "    classifier_activation=\"softmax\"\n",
    ")"
   ]
  },
  {
   "cell_type": "markdown",
   "metadata": {},
   "source": [
    "Read a dataset (we use image_dataset_from_directory from tf.keras.preprocessing to create a generator). In the example below, we use our own very small dataset, but to gather the results for the purpose of our paper, we used Kaggle Dogs vs. Cats dataset (see https://www.kaggle.com/c/dogs-vs-cats) - it has the same format as our tiny example."
   ]
  },
  {
   "cell_type": "code",
   "execution_count": 8,
   "metadata": {},
   "outputs": [
    {
     "name": "stdout",
     "output_type": "stream",
     "text": [
      "Found 20 files belonging to 2 classes.\n"
     ]
    }
   ],
   "source": [
    "# set a correct image size for a network (MobileNetV2)\n",
    "image_size = (224, 224)\n",
    "batch_size = 32\n",
    "\n",
    "test_ds = tf.keras.preprocessing.image_dataset_from_directory(\n",
    "    \"PetImages\",\n",
    "    seed=1337,\n",
    "    image_size=image_size,\n",
    "    batch_size=batch_size,\n",
    "    label_mode='categorical',\n",
    "    shuffle=False\n",
    ")\n",
    "normalized_ds = test_ds.map(lambda x, y: (preprocess_input(x), y))\n",
    "\n",
    "# here, we read the labels for testing (correct only when shuffle is False)\n",
    "labels = np.concatenate([y for x, y in normalized_ds], axis=0) "
   ]
  },
  {
   "cell_type": "markdown",
   "metadata": {},
   "source": [
    "Below, we generate predictions with the original model:"
   ]
  },
  {
   "cell_type": "code",
   "execution_count": 5,
   "metadata": {},
   "outputs": [
    {
     "name": "stdout",
     "output_type": "stream",
     "text": [
      "1/1 [==============================] - 1s 1s/step\n"
     ]
    }
   ],
   "source": [
    "predictions = model.predict(normalized_ds)\n",
    "y_predicted = np.argmax(predictions, axis=1)"
   ]
  },
  {
   "cell_type": "markdown",
   "metadata": {},
   "source": [
    "Below, we provide an example implementation that maps the ImageNet classes to classes Dog, Cat and Other (all classes besides dogs and cats)."
   ]
  },
  {
   "cell_type": "code",
   "execution_count": 6,
   "metadata": {},
   "outputs": [],
   "source": [
    "def map_classes(prediction):\n",
    "    dog_classes = find_hyponyms(hypernym_name='dog')\n",
    "    cat_classes = find_hyponyms(hypernym_name='cat')\n",
    "    d = {}\n",
    "    \n",
    "    for i in range(1000):\n",
    "        if i in cat_classes:\n",
    "            d[i] = 0\n",
    "        elif i in dog_classes:\n",
    "            d[i] = 1\n",
    "        else:\n",
    "            d[i] = 2\n",
    "            \n",
    "    mapped = np.vectorize(d.get)(prediction)\n",
    "    return mapped"
   ]
  },
  {
   "cell_type": "markdown",
   "metadata": {},
   "source": [
    "In this case, our confusion matrix is 3 x 3 - we also include class 'other'. In the case of cats (index 0), the network mistakes them for dogs and other ImageNet classes."
   ]
  },
  {
   "cell_type": "code",
   "execution_count": 7,
   "metadata": {},
   "outputs": [
    {
     "name": "stdout",
     "output_type": "stream",
     "text": [
      "Accuracy\n",
      "0.75\n",
      "Confusion matrix\n",
      "[[0.5 0.3 0.2]\n",
      " [0.  1.  0. ]\n",
      " [0.  0.  0. ]]\n"
     ]
    }
   ],
   "source": [
    "from sklearn.metrics import accuracy_score, confusion_matrix\n",
    "true_y =  np.argmax(labels, axis=1)\n",
    "predicted_y = map_classes(y_predicted)\n",
    "print('Accuracy')\n",
    "print(accuracy_score(true_y, predicted_y))\n",
    "print('Confusion matrix')\n",
    "print(confusion_matrix(true_y, predicted_y, normalize='true'))"
   ]
  },
  {
   "cell_type": "code",
   "execution_count": null,
   "metadata": {},
   "outputs": [],
   "source": []
  }
 ],
 "metadata": {
  "kernelspec": {
   "display_name": "Python 3 (ipykernel)",
   "language": "python",
   "name": "python3"
  },
  "language_info": {
   "codemirror_mode": {
    "name": "ipython",
    "version": 3
   },
   "file_extension": ".py",
   "mimetype": "text/x-python",
   "name": "python",
   "nbconvert_exporter": "python",
   "pygments_lexer": "ipython3",
   "version": "3.10.9"
  }
 },
 "nbformat": 4,
 "nbformat_minor": 4
}
